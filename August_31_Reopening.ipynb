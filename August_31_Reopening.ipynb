{
 "cells": [
  {
   "cell_type": "markdown",
   "id": "1fef3793",
   "metadata": {},
   "source": [
    "### RDD to estimate the effect of the reopening of schools on 31/8/2020 in Quebec: ###\n",
    "#### by: Mahmoud El Hazzouri ####"
   ]
  },
  {
   "cell_type": "markdown",
   "id": "5409c4f5",
   "metadata": {},
   "source": [
    "### Libraries Imported ###"
   ]
  },
  {
   "cell_type": "code",
   "execution_count": 1,
   "id": "64225f1b",
   "metadata": {},
   "outputs": [],
   "source": [
    "### Linear Algebra \n",
    "import numpy as np \n",
    "\n",
    "### Data Processing \n",
    "import pandas as pd \n",
    "\n",
    "### Data Visualization \n",
    "import seaborn as sns\n",
    "\n",
    "### Matplotlib inline\n",
    "from matplotlib import pyplot as plt\n",
    "\n",
    "### Algorithims \n",
    "import statsmodels.formula.api as smf\n",
    "import statsmodels.api as sm\n",
    "from sklearn.preprocessing import LabelEncoder\n",
    "encoder = LabelEncoder()"
   ]
  },
  {
   "cell_type": "markdown",
   "id": "ea8ec4ba",
   "metadata": {},
   "source": [
    "### Acquiring and Imporing the dataset ###"
   ]
  },
  {
   "cell_type": "code",
   "execution_count": 2,
   "id": "0a476e89",
   "metadata": {},
   "outputs": [
    {
     "data": {
      "text/html": [
       "<div>\n",
       "<style scoped>\n",
       "    .dataframe tbody tr th:only-of-type {\n",
       "        vertical-align: middle;\n",
       "    }\n",
       "\n",
       "    .dataframe tbody tr th {\n",
       "        vertical-align: top;\n",
       "    }\n",
       "\n",
       "    .dataframe thead th {\n",
       "        text-align: right;\n",
       "    }\n",
       "</style>\n",
       "<table border=\"1\" class=\"dataframe\">\n",
       "  <thead>\n",
       "    <tr style=\"text-align: right;\">\n",
       "      <th></th>\n",
       "      <th>region</th>\n",
       "      <th>date</th>\n",
       "      <th>daily_cases</th>\n",
       "      <th>daily_death</th>\n",
       "      <th>daily_hospitalization</th>\n",
       "      <th>daily_ICU</th>\n",
       "      <th>daily_test_completed</th>\n",
       "    </tr>\n",
       "  </thead>\n",
       "  <tbody>\n",
       "    <tr>\n",
       "      <th>0</th>\n",
       "      <td>QC</td>\n",
       "      <td>2020-01-23</td>\n",
       "      <td>0</td>\n",
       "      <td>0</td>\n",
       "      <td>0</td>\n",
       "      <td>0</td>\n",
       "      <td>2</td>\n",
       "    </tr>\n",
       "    <tr>\n",
       "      <th>1</th>\n",
       "      <td>QC</td>\n",
       "      <td>2020-01-24</td>\n",
       "      <td>0</td>\n",
       "      <td>0</td>\n",
       "      <td>0</td>\n",
       "      <td>0</td>\n",
       "      <td>0</td>\n",
       "    </tr>\n",
       "    <tr>\n",
       "      <th>2</th>\n",
       "      <td>QC</td>\n",
       "      <td>2020-01-25</td>\n",
       "      <td>0</td>\n",
       "      <td>0</td>\n",
       "      <td>0</td>\n",
       "      <td>0</td>\n",
       "      <td>0</td>\n",
       "    </tr>\n",
       "    <tr>\n",
       "      <th>3</th>\n",
       "      <td>QC</td>\n",
       "      <td>2020-01-26</td>\n",
       "      <td>0</td>\n",
       "      <td>0</td>\n",
       "      <td>0</td>\n",
       "      <td>0</td>\n",
       "      <td>0</td>\n",
       "    </tr>\n",
       "    <tr>\n",
       "      <th>4</th>\n",
       "      <td>QC</td>\n",
       "      <td>2020-01-27</td>\n",
       "      <td>0</td>\n",
       "      <td>0</td>\n",
       "      <td>0</td>\n",
       "      <td>0</td>\n",
       "      <td>1</td>\n",
       "    </tr>\n",
       "  </tbody>\n",
       "</table>\n",
       "</div>"
      ],
      "text/plain": [
       "  region        date  daily_cases  daily_death  daily_hospitalization  \\\n",
       "0     QC  2020-01-23            0            0                      0   \n",
       "1     QC  2020-01-24            0            0                      0   \n",
       "2     QC  2020-01-25            0            0                      0   \n",
       "3     QC  2020-01-26            0            0                      0   \n",
       "4     QC  2020-01-27            0            0                      0   \n",
       "\n",
       "   daily_ICU  daily_test_completed  \n",
       "0          0                     2  \n",
       "1          0                     0  \n",
       "2          0                     0  \n",
       "3          0                     0  \n",
       "4          0                     1  "
      ]
     },
     "execution_count": 2,
     "metadata": {},
     "output_type": "execute_result"
    }
   ],
   "source": [
    "CovidQubec = pd.read_csv('Quebec_2020.csv')\n",
    "CovidQubec.head()"
   ]
  },
  {
   "cell_type": "markdown",
   "id": "7ecfaba2",
   "metadata": {},
   "source": [
    "### Summary Statistics ###"
   ]
  },
  {
   "cell_type": "code",
   "execution_count": 3,
   "id": "1309bcc8",
   "metadata": {},
   "outputs": [
    {
     "name": "stdout",
     "output_type": "stream",
     "text": [
      "==============================================================================\n",
      "                              OVERALL SUMMARY\n",
      "==============================================================================\n",
      "       daily_cases  daily_death  daily_hospitalization   daily_ICU  \\\n",
      "count   375.000000   375.000000             375.000000  375.000000   \n",
      "mean    678.794667    26.602667               3.029333    0.509333   \n",
      "std     703.982976    32.182210              48.715552    8.996987   \n",
      "min       0.000000     0.000000            -235.000000  -19.000000   \n",
      "25%     100.000000     2.000000              -8.000000   -2.000000   \n",
      "50%     501.000000    13.000000               0.000000    0.000000   \n",
      "75%    1068.500000    42.000000               9.000000    2.000000   \n",
      "max    3100.000000   153.000000             758.000000  146.000000   \n",
      "\n",
      "       daily_test_completed  \n",
      "count            375.000000  \n",
      "mean           14938.517333  \n",
      "std            11123.377400  \n",
      "min                0.000000  \n",
      "25%             6200.500000  \n",
      "50%            12167.000000  \n",
      "75%            24802.000000  \n",
      "max            39419.000000  \n"
     ]
    }
   ],
   "source": [
    "print (\"==============================================================================\")\n",
    "print (\"                              OVERALL SUMMARY\")\n",
    "print (\"==============================================================================\")\n",
    "print (CovidQubec.describe())"
   ]
  },
  {
   "cell_type": "markdown",
   "id": "0b268386",
   "metadata": {},
   "source": [
    "### Defining the time period we are going to do RDD over in order to estimate the effect of the August Reopening ~ July 31 - September 28 ###"
   ]
  },
  {
   "cell_type": "code",
   "execution_count": 4,
   "id": "36d6f8c8",
   "metadata": {},
   "outputs": [],
   "source": [
    "df = CovidQubec[190:250]"
   ]
  },
  {
   "cell_type": "code",
   "execution_count": 5,
   "id": "74b58eb1",
   "metadata": {},
   "outputs": [
    {
     "data": {
      "text/html": [
       "<div>\n",
       "<style scoped>\n",
       "    .dataframe tbody tr th:only-of-type {\n",
       "        vertical-align: middle;\n",
       "    }\n",
       "\n",
       "    .dataframe tbody tr th {\n",
       "        vertical-align: top;\n",
       "    }\n",
       "\n",
       "    .dataframe thead th {\n",
       "        text-align: right;\n",
       "    }\n",
       "</style>\n",
       "<table border=\"1\" class=\"dataframe\">\n",
       "  <thead>\n",
       "    <tr style=\"text-align: right;\">\n",
       "      <th></th>\n",
       "      <th>region</th>\n",
       "      <th>date</th>\n",
       "      <th>daily_cases</th>\n",
       "      <th>daily_death</th>\n",
       "      <th>daily_hospitalization</th>\n",
       "      <th>daily_ICU</th>\n",
       "      <th>daily_test_completed</th>\n",
       "    </tr>\n",
       "  </thead>\n",
       "  <tbody>\n",
       "    <tr>\n",
       "      <th>190</th>\n",
       "      <td>QC</td>\n",
       "      <td>2020-07-31</td>\n",
       "      <td>160</td>\n",
       "      <td>4</td>\n",
       "      <td>-19</td>\n",
       "      <td>-3</td>\n",
       "      <td>16154</td>\n",
       "    </tr>\n",
       "    <tr>\n",
       "      <th>191</th>\n",
       "      <td>QC</td>\n",
       "      <td>2020-08-01</td>\n",
       "      <td>122</td>\n",
       "      <td>1</td>\n",
       "      <td>-12</td>\n",
       "      <td>3</td>\n",
       "      <td>14849</td>\n",
       "    </tr>\n",
       "    <tr>\n",
       "      <th>192</th>\n",
       "      <td>QC</td>\n",
       "      <td>2020-08-02</td>\n",
       "      <td>123</td>\n",
       "      <td>2</td>\n",
       "      <td>-5</td>\n",
       "      <td>-1</td>\n",
       "      <td>10205</td>\n",
       "    </tr>\n",
       "    <tr>\n",
       "      <th>193</th>\n",
       "      <td>QC</td>\n",
       "      <td>2020-08-03</td>\n",
       "      <td>102</td>\n",
       "      <td>2</td>\n",
       "      <td>0</td>\n",
       "      <td>1</td>\n",
       "      <td>11777</td>\n",
       "    </tr>\n",
       "    <tr>\n",
       "      <th>194</th>\n",
       "      <td>QC</td>\n",
       "      <td>2020-08-04</td>\n",
       "      <td>140</td>\n",
       "      <td>0</td>\n",
       "      <td>-3</td>\n",
       "      <td>3</td>\n",
       "      <td>16246</td>\n",
       "    </tr>\n",
       "  </tbody>\n",
       "</table>\n",
       "</div>"
      ],
      "text/plain": [
       "    region        date  daily_cases  daily_death  daily_hospitalization  \\\n",
       "190     QC  2020-07-31          160            4                    -19   \n",
       "191     QC  2020-08-01          122            1                    -12   \n",
       "192     QC  2020-08-02          123            2                     -5   \n",
       "193     QC  2020-08-03          102            2                      0   \n",
       "194     QC  2020-08-04          140            0                     -3   \n",
       "\n",
       "     daily_ICU  daily_test_completed  \n",
       "190         -3                 16154  \n",
       "191          3                 14849  \n",
       "192         -1                 10205  \n",
       "193          1                 11777  \n",
       "194          3                 16246  "
      ]
     },
     "execution_count": 5,
     "metadata": {},
     "output_type": "execute_result"
    }
   ],
   "source": [
    "df.head()"
   ]
  },
  {
   "cell_type": "code",
   "execution_count": 6,
   "id": "256f71a0",
   "metadata": {},
   "outputs": [
    {
     "data": {
      "text/plain": [
       "60"
      ]
     },
     "execution_count": 6,
     "metadata": {},
     "output_type": "execute_result"
    }
   ],
   "source": [
    "### Time period we are doing RDD over: 60 Days\n",
    "len(df)"
   ]
  },
  {
   "cell_type": "code",
   "execution_count": 7,
   "id": "60d66a90",
   "metadata": {},
   "outputs": [
    {
     "data": {
      "text/html": [
       "<div>\n",
       "<style scoped>\n",
       "    .dataframe tbody tr th:only-of-type {\n",
       "        vertical-align: middle;\n",
       "    }\n",
       "\n",
       "    .dataframe tbody tr th {\n",
       "        vertical-align: top;\n",
       "    }\n",
       "\n",
       "    .dataframe thead th {\n",
       "        text-align: right;\n",
       "    }\n",
       "</style>\n",
       "<table border=\"1\" class=\"dataframe\">\n",
       "  <thead>\n",
       "    <tr style=\"text-align: right;\">\n",
       "      <th></th>\n",
       "      <th>region</th>\n",
       "      <th>date</th>\n",
       "      <th>daily_cases</th>\n",
       "      <th>daily_death</th>\n",
       "      <th>daily_hospitalization</th>\n",
       "      <th>daily_ICU</th>\n",
       "      <th>daily_test_completed</th>\n",
       "    </tr>\n",
       "  </thead>\n",
       "  <tbody>\n",
       "    <tr>\n",
       "      <th>190</th>\n",
       "      <td>QC</td>\n",
       "      <td>2020-07-31</td>\n",
       "      <td>160</td>\n",
       "      <td>4</td>\n",
       "      <td>-19</td>\n",
       "      <td>-3</td>\n",
       "      <td>16154</td>\n",
       "    </tr>\n",
       "    <tr>\n",
       "      <th>191</th>\n",
       "      <td>QC</td>\n",
       "      <td>2020-08-01</td>\n",
       "      <td>122</td>\n",
       "      <td>1</td>\n",
       "      <td>-12</td>\n",
       "      <td>3</td>\n",
       "      <td>14849</td>\n",
       "    </tr>\n",
       "    <tr>\n",
       "      <th>192</th>\n",
       "      <td>QC</td>\n",
       "      <td>2020-08-02</td>\n",
       "      <td>123</td>\n",
       "      <td>2</td>\n",
       "      <td>-5</td>\n",
       "      <td>-1</td>\n",
       "      <td>10205</td>\n",
       "    </tr>\n",
       "    <tr>\n",
       "      <th>193</th>\n",
       "      <td>QC</td>\n",
       "      <td>2020-08-03</td>\n",
       "      <td>102</td>\n",
       "      <td>2</td>\n",
       "      <td>0</td>\n",
       "      <td>1</td>\n",
       "      <td>11777</td>\n",
       "    </tr>\n",
       "    <tr>\n",
       "      <th>194</th>\n",
       "      <td>QC</td>\n",
       "      <td>2020-08-04</td>\n",
       "      <td>140</td>\n",
       "      <td>0</td>\n",
       "      <td>-3</td>\n",
       "      <td>3</td>\n",
       "      <td>16246</td>\n",
       "    </tr>\n",
       "  </tbody>\n",
       "</table>\n",
       "</div>"
      ],
      "text/plain": [
       "    region        date  daily_cases  daily_death  daily_hospitalization  \\\n",
       "190     QC  2020-07-31          160            4                    -19   \n",
       "191     QC  2020-08-01          122            1                    -12   \n",
       "192     QC  2020-08-02          123            2                     -5   \n",
       "193     QC  2020-08-03          102            2                      0   \n",
       "194     QC  2020-08-04          140            0                     -3   \n",
       "\n",
       "     daily_ICU  daily_test_completed  \n",
       "190         -3                 16154  \n",
       "191          3                 14849  \n",
       "192         -1                 10205  \n",
       "193          1                 11777  \n",
       "194          3                 16246  "
      ]
     },
     "execution_count": 7,
     "metadata": {},
     "output_type": "execute_result"
    }
   ],
   "source": [
    "df.head()"
   ]
  },
  {
   "cell_type": "code",
   "execution_count": 8,
   "id": "204bea3d",
   "metadata": {
    "scrolled": true
   },
   "outputs": [
    {
     "data": {
      "text/html": [
       "<div>\n",
       "<style scoped>\n",
       "    .dataframe tbody tr th:only-of-type {\n",
       "        vertical-align: middle;\n",
       "    }\n",
       "\n",
       "    .dataframe tbody tr th {\n",
       "        vertical-align: top;\n",
       "    }\n",
       "\n",
       "    .dataframe thead th {\n",
       "        text-align: right;\n",
       "    }\n",
       "</style>\n",
       "<table border=\"1\" class=\"dataframe\">\n",
       "  <thead>\n",
       "    <tr style=\"text-align: right;\">\n",
       "      <th></th>\n",
       "      <th>region</th>\n",
       "      <th>date</th>\n",
       "      <th>daily_cases</th>\n",
       "      <th>daily_death</th>\n",
       "      <th>daily_hospitalization</th>\n",
       "      <th>daily_ICU</th>\n",
       "      <th>daily_test_completed</th>\n",
       "    </tr>\n",
       "  </thead>\n",
       "  <tbody>\n",
       "    <tr>\n",
       "      <th>245</th>\n",
       "      <td>QC</td>\n",
       "      <td>2020-09-24</td>\n",
       "      <td>658</td>\n",
       "      <td>4</td>\n",
       "      <td>9</td>\n",
       "      <td>1</td>\n",
       "      <td>30211</td>\n",
       "    </tr>\n",
       "    <tr>\n",
       "      <th>246</th>\n",
       "      <td>QC</td>\n",
       "      <td>2020-09-25</td>\n",
       "      <td>737</td>\n",
       "      <td>6</td>\n",
       "      <td>15</td>\n",
       "      <td>2</td>\n",
       "      <td>28622</td>\n",
       "    </tr>\n",
       "    <tr>\n",
       "      <th>247</th>\n",
       "      <td>QC</td>\n",
       "      <td>2020-09-26</td>\n",
       "      <td>787</td>\n",
       "      <td>2</td>\n",
       "      <td>18</td>\n",
       "      <td>12</td>\n",
       "      <td>26585</td>\n",
       "    </tr>\n",
       "    <tr>\n",
       "      <th>248</th>\n",
       "      <td>QC</td>\n",
       "      <td>2020-09-27</td>\n",
       "      <td>876</td>\n",
       "      <td>7</td>\n",
       "      <td>-4</td>\n",
       "      <td>-4</td>\n",
       "      <td>22780</td>\n",
       "    </tr>\n",
       "    <tr>\n",
       "      <th>249</th>\n",
       "      <td>QC</td>\n",
       "      <td>2020-09-28</td>\n",
       "      <td>921</td>\n",
       "      <td>4</td>\n",
       "      <td>-5</td>\n",
       "      <td>-4</td>\n",
       "      <td>24637</td>\n",
       "    </tr>\n",
       "  </tbody>\n",
       "</table>\n",
       "</div>"
      ],
      "text/plain": [
       "    region        date  daily_cases  daily_death  daily_hospitalization  \\\n",
       "245     QC  2020-09-24          658            4                      9   \n",
       "246     QC  2020-09-25          737            6                     15   \n",
       "247     QC  2020-09-26          787            2                     18   \n",
       "248     QC  2020-09-27          876            7                     -4   \n",
       "249     QC  2020-09-28          921            4                     -5   \n",
       "\n",
       "     daily_ICU  daily_test_completed  \n",
       "245          1                 30211  \n",
       "246          2                 28622  \n",
       "247         12                 26585  \n",
       "248         -4                 22780  \n",
       "249         -4                 24637  "
      ]
     },
     "execution_count": 8,
     "metadata": {},
     "output_type": "execute_result"
    }
   ],
   "source": [
    "df.tail()"
   ]
  },
  {
   "cell_type": "markdown",
   "id": "cbf4bc54",
   "metadata": {},
   "source": [
    "### Visualizing the change in Covid Cases between July 31 and September 28 ###"
   ]
  },
  {
   "cell_type": "code",
   "execution_count": 9,
   "id": "a1d55c04",
   "metadata": {},
   "outputs": [],
   "source": [
    "x = pd.to_datetime(df['date'])\n",
    "y = df['daily_cases']"
   ]
  },
  {
   "cell_type": "code",
   "execution_count": 10,
   "id": "7c3dbbf8",
   "metadata": {
    "scrolled": true
   },
   "outputs": [
    {
     "data": {
      "image/png": "[encoded data removed]",
      "text/plain": [
       "<Figure size 432x288 with 1 Axes>"
      ]
     },
     "metadata": {
      "needs_background": "light"
     },
     "output_type": "display_data"
    }
   ],
   "source": [
    "plt.scatter(x, y, alpha = 0.9)\n",
    "plt.xticks(x, rotation = 'vertical', size = 6)\n",
    "plt.show()"
   ]
  },
  {
   "cell_type": "markdown",
   "id": "de534d37",
   "metadata": {},
   "source": [
    "### Set up Forcing Variable and Cutoff Predictor ###"
   ]
  },
  {
   "cell_type": "code",
   "execution_count": 11,
   "id": "f09c9a05",
   "metadata": {},
   "outputs": [],
   "source": [
    "Threshold = df['date'] > '2020-08-31'"
   ]
  },
  {
   "cell_type": "code",
   "execution_count": 12,
   "id": "5ece6712",
   "metadata": {},
   "outputs": [],
   "source": [
    "rdd_df = df.assign(Threshold = df['date']> '2020-08-31')"
   ]
  },
  {
   "cell_type": "code",
   "execution_count": 13,
   "id": "f22d33a9",
   "metadata": {},
   "outputs": [],
   "source": [
    "rdd_df.iloc[:,-1] = encoder.fit_transform(rdd_df.iloc[:,-1].values)"
   ]
  },
  {
   "cell_type": "markdown",
   "id": "b77b9f8c",
   "metadata": {},
   "source": [
    "### Encoding the dates as well for easier visualization on the x-axis ###"
   ]
  },
  {
   "cell_type": "code",
   "execution_count": 14,
   "id": "888cd2a9",
   "metadata": {},
   "outputs": [
    {
     "data": {
      "text/plain": [
       "190    0\n",
       "191    1\n",
       "192    2\n",
       "193    3\n",
       "194    4\n",
       "Name: date, dtype: int64"
      ]
     },
     "execution_count": 14,
     "metadata": {},
     "output_type": "execute_result"
    }
   ],
   "source": [
    "rdd_df.iloc[:,1] = encoder.fit_transform(rdd_df.iloc[:,1].values)\n",
    "rdd_df['date'].head()"
   ]
  },
  {
   "cell_type": "code",
   "execution_count": 15,
   "id": "db705824",
   "metadata": {
    "scrolled": true
   },
   "outputs": [
    {
     "data": {
      "text/html": [
       "<div>\n",
       "<style scoped>\n",
       "    .dataframe tbody tr th:only-of-type {\n",
       "        vertical-align: middle;\n",
       "    }\n",
       "\n",
       "    .dataframe tbody tr th {\n",
       "        vertical-align: top;\n",
       "    }\n",
       "\n",
       "    .dataframe thead th {\n",
       "        text-align: right;\n",
       "    }\n",
       "</style>\n",
       "<table border=\"1\" class=\"dataframe\">\n",
       "  <thead>\n",
       "    <tr style=\"text-align: right;\">\n",
       "      <th></th>\n",
       "      <th>region</th>\n",
       "      <th>date</th>\n",
       "      <th>daily_cases</th>\n",
       "      <th>daily_death</th>\n",
       "      <th>daily_hospitalization</th>\n",
       "      <th>daily_ICU</th>\n",
       "      <th>daily_test_completed</th>\n",
       "      <th>Threshold</th>\n",
       "    </tr>\n",
       "  </thead>\n",
       "  <tbody>\n",
       "    <tr>\n",
       "      <th>190</th>\n",
       "      <td>QC</td>\n",
       "      <td>0</td>\n",
       "      <td>160</td>\n",
       "      <td>4</td>\n",
       "      <td>-19</td>\n",
       "      <td>-3</td>\n",
       "      <td>16154</td>\n",
       "      <td>0</td>\n",
       "    </tr>\n",
       "    <tr>\n",
       "      <th>191</th>\n",
       "      <td>QC</td>\n",
       "      <td>1</td>\n",
       "      <td>122</td>\n",
       "      <td>1</td>\n",
       "      <td>-12</td>\n",
       "      <td>3</td>\n",
       "      <td>14849</td>\n",
       "      <td>0</td>\n",
       "    </tr>\n",
       "    <tr>\n",
       "      <th>192</th>\n",
       "      <td>QC</td>\n",
       "      <td>2</td>\n",
       "      <td>123</td>\n",
       "      <td>2</td>\n",
       "      <td>-5</td>\n",
       "      <td>-1</td>\n",
       "      <td>10205</td>\n",
       "      <td>0</td>\n",
       "    </tr>\n",
       "    <tr>\n",
       "      <th>193</th>\n",
       "      <td>QC</td>\n",
       "      <td>3</td>\n",
       "      <td>102</td>\n",
       "      <td>2</td>\n",
       "      <td>0</td>\n",
       "      <td>1</td>\n",
       "      <td>11777</td>\n",
       "      <td>0</td>\n",
       "    </tr>\n",
       "    <tr>\n",
       "      <th>194</th>\n",
       "      <td>QC</td>\n",
       "      <td>4</td>\n",
       "      <td>140</td>\n",
       "      <td>0</td>\n",
       "      <td>-3</td>\n",
       "      <td>3</td>\n",
       "      <td>16246</td>\n",
       "      <td>0</td>\n",
       "    </tr>\n",
       "  </tbody>\n",
       "</table>\n",
       "</div>"
      ],
      "text/plain": [
       "    region  date  daily_cases  daily_death  daily_hospitalization  daily_ICU  \\\n",
       "190     QC     0          160            4                    -19         -3   \n",
       "191     QC     1          122            1                    -12          3   \n",
       "192     QC     2          123            2                     -5         -1   \n",
       "193     QC     3          102            2                      0          1   \n",
       "194     QC     4          140            0                     -3          3   \n",
       "\n",
       "     daily_test_completed  Threshold  \n",
       "190                 16154          0  \n",
       "191                 14849          0  \n",
       "192                 10205          0  \n",
       "193                 11777          0  \n",
       "194                 16246          0  "
      ]
     },
     "execution_count": 15,
     "metadata": {},
     "output_type": "execute_result"
    }
   ],
   "source": [
    "rdd_df.head()"
   ]
  },
  {
   "cell_type": "markdown",
   "id": "8721cf68",
   "metadata": {},
   "source": [
    "### RDD Estimation: Method 1 ###"
   ]
  },
  {
   "cell_type": "code",
   "execution_count": 16,
   "id": "c4abc1e0",
   "metadata": {},
   "outputs": [
    {
     "data": {
      "text/html": [
       "<table class=\"simpletable\">\n",
       "<tr>\n",
       "         <td></td>           <th>coef</th>     <th>std err</th>      <th>t</th>      <th>P>|t|</th>  <th>[0.025</th>    <th>0.975]</th>  \n",
       "</tr>\n",
       "<tr>\n",
       "  <th>Intercept</th>      <td>  117.2443</td> <td>   23.113</td> <td>    5.073</td> <td> 0.000</td> <td>   70.943</td> <td>  163.546</td>\n",
       "</tr>\n",
       "<tr>\n",
       "  <th>date</th>           <td>   -0.9573</td> <td>    1.281</td> <td>   -0.747</td> <td> 0.458</td> <td>   -3.524</td> <td>    1.609</td>\n",
       "</tr>\n",
       "<tr>\n",
       "  <th>Threshold</th>      <td> -881.6688</td> <td>   75.945</td> <td>  -11.609</td> <td> 0.000</td> <td>-1033.804</td> <td> -729.534</td>\n",
       "</tr>\n",
       "<tr>\n",
       "  <th>date:Threshold</th> <td>   26.2767</td> <td>    2.023</td> <td>   12.990</td> <td> 0.000</td> <td>   22.224</td> <td>   30.329</td>\n",
       "</tr>\n",
       "</table>"
      ],
      "text/plain": [
       "<class 'statsmodels.iolib.table.SimpleTable'>"
      ]
     },
     "execution_count": 16,
     "metadata": {},
     "output_type": "execute_result"
    }
   ],
   "source": [
    "model = smf.wls('daily_cases~date*Threshold', rdd_df).fit()\n",
    "model.summary().tables[1]"
   ]
  },
  {
   "cell_type": "markdown",
   "id": "bfa3a9cf",
   "metadata": {},
   "source": [
    "### RDD Estimation: Method 2 ###"
   ]
  },
  {
   "cell_type": "code",
   "execution_count": 17,
   "id": "7b246835",
   "metadata": {
    "scrolled": true
   },
   "outputs": [
    {
     "data": {
      "text/html": [
       "<table class=\"simpletable\">\n",
       "<caption>OLS Regression Results</caption>\n",
       "<tr>\n",
       "  <th>Dep. Variable:</th>       <td>daily_cases</td>   <th>  R-squared:         </th> <td>   0.905</td>\n",
       "</tr>\n",
       "<tr>\n",
       "  <th>Model:</th>                   <td>OLS</td>       <th>  Adj. R-squared:    </th> <td>   0.900</td>\n",
       "</tr>\n",
       "<tr>\n",
       "  <th>Method:</th>             <td>Least Squares</td>  <th>  F-statistic:       </th> <td>   177.8</td>\n",
       "</tr>\n",
       "<tr>\n",
       "  <th>Date:</th>             <td>Mon, 24 Oct 2022</td> <th>  Prob (F-statistic):</th> <td>1.37e-28</td>\n",
       "</tr>\n",
       "<tr>\n",
       "  <th>Time:</th>                 <td>09:47:51</td>     <th>  Log-Likelihood:    </th> <td> -335.27</td>\n",
       "</tr>\n",
       "<tr>\n",
       "  <th>No. Observations:</th>      <td>    60</td>      <th>  AIC:               </th> <td>   678.5</td>\n",
       "</tr>\n",
       "<tr>\n",
       "  <th>Df Residuals:</th>          <td>    56</td>      <th>  BIC:               </th> <td>   686.9</td>\n",
       "</tr>\n",
       "<tr>\n",
       "  <th>Df Model:</th>              <td>     3</td>      <th>                     </th>     <td> </td>   \n",
       "</tr>\n",
       "<tr>\n",
       "  <th>Covariance Type:</th>      <td>nonrobust</td>    <th>                     </th>     <td> </td>   \n",
       "</tr>\n",
       "</table>\n",
       "<table class=\"simpletable\">\n",
       "<tr>\n",
       "         <td></td>           <th>coef</th>     <th>std err</th>      <th>t</th>      <th>P>|t|</th>  <th>[0.025</th>    <th>0.975]</th>  \n",
       "</tr>\n",
       "<tr>\n",
       "  <th>Intercept</th>      <td>  117.2443</td> <td>   23.113</td> <td>    5.073</td> <td> 0.000</td> <td>   70.943</td> <td>  163.546</td>\n",
       "</tr>\n",
       "<tr>\n",
       "  <th>date</th>           <td>   -0.9573</td> <td>    1.281</td> <td>   -0.747</td> <td> 0.458</td> <td>   -3.524</td> <td>    1.609</td>\n",
       "</tr>\n",
       "<tr>\n",
       "  <th>Threshold</th>      <td> -881.6688</td> <td>   75.945</td> <td>  -11.609</td> <td> 0.000</td> <td>-1033.804</td> <td> -729.534</td>\n",
       "</tr>\n",
       "<tr>\n",
       "  <th>date:Threshold</th> <td>   26.2767</td> <td>    2.023</td> <td>   12.990</td> <td> 0.000</td> <td>   22.224</td> <td>   30.329</td>\n",
       "</tr>\n",
       "</table>\n",
       "<table class=\"simpletable\">\n",
       "<tr>\n",
       "  <th>Omnibus:</th>       <td> 4.420</td> <th>  Durbin-Watson:     </th> <td>   0.359</td>\n",
       "</tr>\n",
       "<tr>\n",
       "  <th>Prob(Omnibus):</th> <td> 0.110</td> <th>  Jarque-Bera (JB):  </th> <td>   3.588</td>\n",
       "</tr>\n",
       "<tr>\n",
       "  <th>Skew:</th>          <td> 0.420</td> <th>  Prob(JB):          </th> <td>   0.166</td>\n",
       "</tr>\n",
       "<tr>\n",
       "  <th>Kurtosis:</th>      <td> 3.854</td> <th>  Cond. No.          </th> <td>    403.</td>\n",
       "</tr>\n",
       "</table><br/><br/>Notes:<br/>[1] Standard Errors assume that the covariance matrix of the errors is correctly specified."
      ],
      "text/plain": [
       "<class 'statsmodels.iolib.summary.Summary'>\n",
       "\"\"\"\n",
       "                            OLS Regression Results                            \n",
       "==============================================================================\n",
       "Dep. Variable:            daily_cases   R-squared:                       0.905\n",
       "Model:                            OLS   Adj. R-squared:                  0.900\n",
       "Method:                 Least Squares   F-statistic:                     177.8\n",
       "Date:                Mon, 24 Oct 2022   Prob (F-statistic):           1.37e-28\n",
       "Time:                        09:47:51   Log-Likelihood:                -335.27\n",
       "No. Observations:                  60   AIC:                             678.5\n",
       "Df Residuals:                      56   BIC:                             686.9\n",
       "Df Model:                           3                                         \n",
       "Covariance Type:            nonrobust                                         \n",
       "==================================================================================\n",
       "                     coef    std err          t      P>|t|      [0.025      0.975]\n",
       "----------------------------------------------------------------------------------\n",
       "Intercept        117.2443     23.113      5.073      0.000      70.943     163.546\n",
       "date              -0.9573      1.281     -0.747      0.458      -3.524       1.609\n",
       "Threshold       -881.6688     75.945    -11.609      0.000   -1033.804    -729.534\n",
       "date:Threshold    26.2767      2.023     12.990      0.000      22.224      30.329\n",
       "==============================================================================\n",
       "Omnibus:                        4.420   Durbin-Watson:                   0.359\n",
       "Prob(Omnibus):                  0.110   Jarque-Bera (JB):                3.588\n",
       "Skew:                           0.420   Prob(JB):                        0.166\n",
       "Kurtosis:                       3.854   Cond. No.                         403.\n",
       "==============================================================================\n",
       "\n",
       "Notes:\n",
       "[1] Standard Errors assume that the covariance matrix of the errors is correctly specified.\n",
       "\"\"\""
      ]
     },
     "execution_count": 17,
     "metadata": {},
     "output_type": "execute_result"
    }
   ],
   "source": [
    "window = rdd_df[(rdd_df['date']>=0) & (rdd_df['date']<=60)]\n",
    "result = smf.ols(formula = \"daily_cases ~ date *Threshold\", \n",
    "                 data = window).fit()\n",
    "result.summary()"
   ]
  },
  {
   "cell_type": "markdown",
   "id": "f6a66215",
   "metadata": {},
   "source": [
    "### RDD Plot ###"
   ]
  },
  {
   "cell_type": "code",
   "execution_count": 18,
   "id": "9d5b57f2",
   "metadata": {
    "scrolled": true
   },
   "outputs": [
    {
     "data": {
      "text/plain": [
       "Text(0.5, 1.0, 'Regression Discontinuity')"
      ]
     },
     "execution_count": 18,
     "metadata": {},
     "output_type": "execute_result"
    },
    {
     "data": {
      "image/png": "[encoded data removed]",
      "text/plain": [
       "<Figure size 960x480 with 1 Axes>"
      ]
     },
     "metadata": {},
     "output_type": "display_data"
    }
   ],
   "source": [
    "plt.figure(num=None, figsize=(12, 6), dpi=80, facecolor='w', edgecolor='k')\n",
    "plt.scatter(window.date,window.daily_cases, color=\"blue\")\n",
    "l=window[window.date<32].date.count() ### Index 32 corresponds to 08/31/2020\n",
    "plt.plot(window.date[0:l], model.predict()[0:l], '-', color=\"r\")\n",
    "plt.plot(window.date[l:], model.predict()[l:], '-', color=\"r\")\n",
    "plt.xlabel('Date ~ 07/31 - 09-28 ')\n",
    "plt.ylabel('COVID-19 Cases')\n",
    "plt.axvline(x=32,color=\"black\", linestyle=\"--\")\n",
    "plt.title(\"Regression Discontinuity\", fontsize=\"18\")"
   ]
  },
  {
   "cell_type": "markdown",
   "id": "9a71bc04",
   "metadata": {},
   "source": [
    "### Conclusion ###\n",
    "\n",
    "This Model is telling us that the the reopining of 08-31-2020 increases the number of COVID-19 cases. Also, we see a statistically significant effect of reopening on reading scores (p<0.05), as expressed in the coeficient Threshold. \n",
    "\n",
    "We also verified the model visually, by showing the predicted values on the data we have. We have to regression models: one before 08/31 and one after. The plots verify the RDD model. "
   ]
  },
  {
   "cell_type": "code",
   "execution_count": null,
   "id": "5fdf448e",
   "metadata": {},
   "outputs": [],
   "source": []
  }
 ],
 "metadata": {
  "kernelspec": {
   "display_name": "Python 3 (ipykernel)",
   "language": "python",
   "name": "python3"
  },
  "language_info": {
   "codemirror_mode": {
    "name": "ipython",
    "version": 3
   },
   "file_extension": ".py",
   "mimetype": "text/x-python",
   "name": "python",
   "nbconvert_exporter": "python",
   "pygments_lexer": "ipython3",
   "version": "3.9.7"
  }
 },
 "nbformat": 4,
 "nbformat_minor": 5
}
