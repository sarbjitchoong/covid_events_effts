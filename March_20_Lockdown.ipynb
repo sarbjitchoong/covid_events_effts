{
 "cells": [
  {
   "cell_type": "markdown",
   "id": "374b9019",
   "metadata": {},
   "source": [
    "# **PROJECT: RDD** #\n",
    "\n",
    "### Group 4: ###\n",
    "**Sarbjit Kaur Choong**"
   ]
  },
  {
   "cell_type": "markdown",
   "id": "7618eb1d",
   "metadata": {},
   "source": [
    "## TASK ##\n",
    "\n",
    "**To use RDD to estimate the effect of the the 20/3/2020 lockdown in Quebec**"
   ]
  },
  {
   "cell_type": "markdown",
   "id": "02a9f241",
   "metadata": {},
   "source": [
    "### Libraries Imported ###"
   ]
  },
  {
   "cell_type": "code",
   "execution_count": 1,
   "id": "8c53f845",
   "metadata": {},
   "outputs": [],
   "source": [
    "import numpy as np \n",
    "import pandas as pd \n",
    "import matplotlib.pyplot as plt\n",
    "import seaborn as sns\n",
    "import statsmodels.formula.api as smf\n",
    "import statsmodels.api as sm\n",
    "from sklearn.preprocessing import PolynomialFeatures\n"
   ]
  },
  {
   "cell_type": "markdown",
   "id": "2c9f2f4f",
   "metadata": {},
   "source": [
    "## DATA SOURCE ##\n",
    "\n",
    "https://github.com/ccodwg/CovidTimelineCanada/tree/main/data/pt\n",
    "\n",
    "\n",
    "-The link provides all the data of Canada through out the timeline of the Covid.\n",
    "<br>-We extracted all relevant data of Quebec starting January 23, 2020 until January 31, 2021 and combined them into one dataset (quebec)."
   ]
  },
  {
   "cell_type": "code",
   "execution_count": 2,
   "id": "54399b8e",
   "metadata": {
    "scrolled": false
   },
   "outputs": [
    {
     "data": {
      "text/html": [
       "<div>\n",
       "<style scoped>\n",
       "    .dataframe tbody tr th:only-of-type {\n",
       "        vertical-align: middle;\n",
       "    }\n",
       "\n",
       "    .dataframe tbody tr th {\n",
       "        vertical-align: top;\n",
       "    }\n",
       "\n",
       "    .dataframe thead th {\n",
       "        text-align: right;\n",
       "    }\n",
       "</style>\n",
       "<table border=\"1\" class=\"dataframe\">\n",
       "  <thead>\n",
       "    <tr style=\"text-align: right;\">\n",
       "      <th></th>\n",
       "      <th>region</th>\n",
       "      <th>date</th>\n",
       "      <th>daily_cases</th>\n",
       "      <th>daily_death</th>\n",
       "      <th>daily_hospitalization</th>\n",
       "      <th>daily_ICU</th>\n",
       "      <th>daily_test_completed</th>\n",
       "    </tr>\n",
       "  </thead>\n",
       "  <tbody>\n",
       "    <tr>\n",
       "      <th>0</th>\n",
       "      <td>QC</td>\n",
       "      <td>2020-01-23</td>\n",
       "      <td>0</td>\n",
       "      <td>0</td>\n",
       "      <td>0</td>\n",
       "      <td>0</td>\n",
       "      <td>2</td>\n",
       "    </tr>\n",
       "    <tr>\n",
       "      <th>1</th>\n",
       "      <td>QC</td>\n",
       "      <td>2020-01-24</td>\n",
       "      <td>0</td>\n",
       "      <td>0</td>\n",
       "      <td>0</td>\n",
       "      <td>0</td>\n",
       "      <td>0</td>\n",
       "    </tr>\n",
       "    <tr>\n",
       "      <th>2</th>\n",
       "      <td>QC</td>\n",
       "      <td>2020-01-25</td>\n",
       "      <td>0</td>\n",
       "      <td>0</td>\n",
       "      <td>0</td>\n",
       "      <td>0</td>\n",
       "      <td>0</td>\n",
       "    </tr>\n",
       "    <tr>\n",
       "      <th>3</th>\n",
       "      <td>QC</td>\n",
       "      <td>2020-01-26</td>\n",
       "      <td>0</td>\n",
       "      <td>0</td>\n",
       "      <td>0</td>\n",
       "      <td>0</td>\n",
       "      <td>0</td>\n",
       "    </tr>\n",
       "    <tr>\n",
       "      <th>4</th>\n",
       "      <td>QC</td>\n",
       "      <td>2020-01-27</td>\n",
       "      <td>0</td>\n",
       "      <td>0</td>\n",
       "      <td>0</td>\n",
       "      <td>0</td>\n",
       "      <td>1</td>\n",
       "    </tr>\n",
       "  </tbody>\n",
       "</table>\n",
       "</div>"
      ],
      "text/plain": [
       "  region        date  daily_cases  daily_death  daily_hospitalization  \\\n",
       "0     QC  2020-01-23            0            0                      0   \n",
       "1     QC  2020-01-24            0            0                      0   \n",
       "2     QC  2020-01-25            0            0                      0   \n",
       "3     QC  2020-01-26            0            0                      0   \n",
       "4     QC  2020-01-27            0            0                      0   \n",
       "\n",
       "   daily_ICU  daily_test_completed  \n",
       "0          0                     2  \n",
       "1          0                     0  \n",
       "2          0                     0  \n",
       "3          0                     0  \n",
       "4          0                     1  "
      ]
     },
     "execution_count": 2,
     "metadata": {},
     "output_type": "execute_result"
    }
   ],
   "source": [
    "quebec = pd.read_csv(\"Quebec_2020.csv\")\n",
    "quebec.head()"
   ]
  },
  {
   "cell_type": "markdown",
   "id": "e2d28be7",
   "metadata": {},
   "source": [
    "## SUMMARY OF DAILY CASES ##"
   ]
  },
  {
   "cell_type": "code",
   "execution_count": 3,
   "id": "84257cca",
   "metadata": {},
   "outputs": [
    {
     "data": {
      "text/plain": [
       "count     375.000000\n",
       "mean      678.794667\n",
       "std       703.982976\n",
       "min         0.000000\n",
       "25%       100.000000\n",
       "50%       501.000000\n",
       "75%      1068.500000\n",
       "max      3100.000000\n",
       "Name: daily_cases, dtype: float64"
      ]
     },
     "execution_count": 3,
     "metadata": {},
     "output_type": "execute_result"
    }
   ],
   "source": [
    "quebec[\"daily_cases\"].describe()"
   ]
  },
  {
   "cell_type": "markdown",
   "id": "940451e0",
   "metadata": {},
   "source": [
    "#### **Conversion of Date:** ####"
   ]
  },
  {
   "cell_type": "code",
   "execution_count": 4,
   "id": "c3a2475b",
   "metadata": {},
   "outputs": [],
   "source": [
    "quebec[\"date\"] = pd.to_datetime(quebec[\"date\"])"
   ]
  },
  {
   "cell_type": "markdown",
   "id": "4e36c6b3",
   "metadata": {},
   "source": [
    "\n",
    "## **STEPS:** ##\n",
    "\n",
    "**The focus of our work is only on the daily Covid cases. We have also decided to make a window of 60 days because symptoms may appear 2-14 days after exposure to the virus.**\n",
    "\n",
    "1. Extracted all the indices that contained the relevant dates needed.\n",
    "2. Assigned date as our independent variable (x) and daily cases as our dependent variable (y).\n",
    "3. Plotted the data in a scatter plot.\n",
    "4. Assigned a cutoff predictor as \"Threshold\".\n",
    "5. Added a new column named \"day\" as cardinal numbers to make it easier to plot and perform a regression on.\n",
    "6. Transformed the data and performed a Regression Discontinuity.\n",
    "7. Plotted the Final Regression Discontinuity Model."
   ]
  },
  {
   "cell_type": "markdown",
   "id": "3e99d33d",
   "metadata": {},
   "source": [
    "# **The 20/3/2020 lockdown** #\n",
    "\n",
    "- Index numbers [28:89] contains all information from February 20, 2020 to April 20,2020.\n",
    "- Assigned a cutoff predictor of 20/3/2020."
   ]
  },
  {
   "cell_type": "markdown",
   "id": "a67c0146",
   "metadata": {},
   "source": [
    "## MODEL # 1 ##"
   ]
  },
  {
   "cell_type": "code",
   "execution_count": 5,
   "id": "cd133dda",
   "metadata": {},
   "outputs": [
    {
     "data": {
      "text/html": [
       "<div>\n",
       "<style scoped>\n",
       "    .dataframe tbody tr th:only-of-type {\n",
       "        vertical-align: middle;\n",
       "    }\n",
       "\n",
       "    .dataframe tbody tr th {\n",
       "        vertical-align: top;\n",
       "    }\n",
       "\n",
       "    .dataframe thead th {\n",
       "        text-align: right;\n",
       "    }\n",
       "</style>\n",
       "<table border=\"1\" class=\"dataframe\">\n",
       "  <thead>\n",
       "    <tr style=\"text-align: right;\">\n",
       "      <th></th>\n",
       "      <th>region</th>\n",
       "      <th>date</th>\n",
       "      <th>daily_cases</th>\n",
       "      <th>daily_death</th>\n",
       "      <th>daily_hospitalization</th>\n",
       "      <th>daily_ICU</th>\n",
       "      <th>daily_test_completed</th>\n",
       "    </tr>\n",
       "  </thead>\n",
       "  <tbody>\n",
       "    <tr>\n",
       "      <th>28</th>\n",
       "      <td>QC</td>\n",
       "      <td>2020-02-20</td>\n",
       "      <td>0</td>\n",
       "      <td>0</td>\n",
       "      <td>0</td>\n",
       "      <td>0</td>\n",
       "      <td>1</td>\n",
       "    </tr>\n",
       "    <tr>\n",
       "      <th>29</th>\n",
       "      <td>QC</td>\n",
       "      <td>2020-02-21</td>\n",
       "      <td>0</td>\n",
       "      <td>0</td>\n",
       "      <td>0</td>\n",
       "      <td>0</td>\n",
       "      <td>2</td>\n",
       "    </tr>\n",
       "    <tr>\n",
       "      <th>30</th>\n",
       "      <td>QC</td>\n",
       "      <td>2020-02-22</td>\n",
       "      <td>0</td>\n",
       "      <td>0</td>\n",
       "      <td>0</td>\n",
       "      <td>0</td>\n",
       "      <td>0</td>\n",
       "    </tr>\n",
       "    <tr>\n",
       "      <th>31</th>\n",
       "      <td>QC</td>\n",
       "      <td>2020-02-23</td>\n",
       "      <td>0</td>\n",
       "      <td>0</td>\n",
       "      <td>0</td>\n",
       "      <td>0</td>\n",
       "      <td>0</td>\n",
       "    </tr>\n",
       "    <tr>\n",
       "      <th>32</th>\n",
       "      <td>QC</td>\n",
       "      <td>2020-02-24</td>\n",
       "      <td>0</td>\n",
       "      <td>0</td>\n",
       "      <td>0</td>\n",
       "      <td>0</td>\n",
       "      <td>6</td>\n",
       "    </tr>\n",
       "  </tbody>\n",
       "</table>\n",
       "</div>"
      ],
      "text/plain": [
       "   region       date  daily_cases  daily_death  daily_hospitalization  \\\n",
       "28     QC 2020-02-20            0            0                      0   \n",
       "29     QC 2020-02-21            0            0                      0   \n",
       "30     QC 2020-02-22            0            0                      0   \n",
       "31     QC 2020-02-23            0            0                      0   \n",
       "32     QC 2020-02-24            0            0                      0   \n",
       "\n",
       "    daily_ICU  daily_test_completed  \n",
       "28          0                     1  \n",
       "29          0                     2  \n",
       "30          0                     0  \n",
       "31          0                     0  \n",
       "32          0                     6  "
      ]
     },
     "execution_count": 5,
     "metadata": {},
     "output_type": "execute_result"
    }
   ],
   "source": [
    "marchlock = quebec[28:89]\n",
    "marchlock.head()"
   ]
  },
  {
   "cell_type": "markdown",
   "id": "1c88e47f",
   "metadata": {},
   "source": [
    "## DAILY CASES ##"
   ]
  },
  {
   "cell_type": "code",
   "execution_count": 6,
   "id": "9e8e6c8d",
   "metadata": {},
   "outputs": [],
   "source": [
    "x = pd.to_datetime(marchlock['date'])\n",
    "y = marchlock['daily_cases']"
   ]
  },
  {
   "cell_type": "code",
   "execution_count": 7,
   "id": "b68313d9",
   "metadata": {
    "scrolled": true
   },
   "outputs": [
    {
     "data": {
      "image/png": "[encoded data removed]",
      "text/plain": [
       "<Figure size 1080x720 with 1 Axes>"
      ]
     },
     "metadata": {
      "needs_background": "light"
     },
     "output_type": "display_data"
    }
   ],
   "source": [
    "marchlock.plot(kind='scatter', x='date', y='daily_cases', figsize=(15, 10), s=60)\n",
    "plt.title(\"Daily Cases vs Dates\")\n",
    "plt.xlabel(\"Dates\", size = 13)\n",
    "plt.ylabel(\"Daily Cases\", size = 13)\n",
    "plt.xticks(x, rotation = 'vertical', size = 5)\n",
    "plt.show()"
   ]
  },
  {
   "cell_type": "markdown",
   "id": "d9b8be2f",
   "metadata": {},
   "source": [
    "## CONCLUSION ##\n",
    "\n",
    "\n",
    "Just by looking at the dataset, we can say that people were already getting tested for Covid however, we can not conclude any result of the tests. For the first quarter of the year there were no records of daily cases.\n",
    "\n",
    "Since, it is hard to see if the lockdown actually had a positive or negative effect. We have decided to lag the data by 3 weeks to see more visible changes given that more data is provided on the second quarter."
   ]
  },
  {
   "cell_type": "markdown",
   "id": "e91aaac9",
   "metadata": {},
   "source": [
    "# -------------------------------------------------------------------------------------------"
   ]
  },
  {
   "cell_type": "markdown",
   "id": "ea8bde14",
   "metadata": {},
   "source": [
    "## MODEL # 2 ##\n",
    "\n",
    "- Index numbers [48:109] contains all information from March 16, 2020 to May 15,2020.\n",
    "- Assigned a cutoff predictor of 15/4/2020."
   ]
  },
  {
   "cell_type": "code",
   "execution_count": 8,
   "id": "9ffd557b",
   "metadata": {},
   "outputs": [
    {
     "data": {
      "text/html": [
       "<div>\n",
       "<style scoped>\n",
       "    .dataframe tbody tr th:only-of-type {\n",
       "        vertical-align: middle;\n",
       "    }\n",
       "\n",
       "    .dataframe tbody tr th {\n",
       "        vertical-align: top;\n",
       "    }\n",
       "\n",
       "    .dataframe thead th {\n",
       "        text-align: right;\n",
       "    }\n",
       "</style>\n",
       "<table border=\"1\" class=\"dataframe\">\n",
       "  <thead>\n",
       "    <tr style=\"text-align: right;\">\n",
       "      <th></th>\n",
       "      <th>region</th>\n",
       "      <th>date</th>\n",
       "      <th>daily_cases</th>\n",
       "      <th>daily_death</th>\n",
       "      <th>daily_hospitalization</th>\n",
       "      <th>daily_ICU</th>\n",
       "      <th>daily_test_completed</th>\n",
       "    </tr>\n",
       "  </thead>\n",
       "  <tbody>\n",
       "    <tr>\n",
       "      <th>53</th>\n",
       "      <td>QC</td>\n",
       "      <td>2020-03-16</td>\n",
       "      <td>2</td>\n",
       "      <td>0</td>\n",
       "      <td>0</td>\n",
       "      <td>0</td>\n",
       "      <td>1082</td>\n",
       "    </tr>\n",
       "    <tr>\n",
       "      <th>54</th>\n",
       "      <td>QC</td>\n",
       "      <td>2020-03-17</td>\n",
       "      <td>5</td>\n",
       "      <td>1</td>\n",
       "      <td>0</td>\n",
       "      <td>0</td>\n",
       "      <td>1402</td>\n",
       "    </tr>\n",
       "    <tr>\n",
       "      <th>55</th>\n",
       "      <td>QC</td>\n",
       "      <td>2020-03-18</td>\n",
       "      <td>4</td>\n",
       "      <td>1</td>\n",
       "      <td>0</td>\n",
       "      <td>0</td>\n",
       "      <td>1472</td>\n",
       "    </tr>\n",
       "    <tr>\n",
       "      <th>56</th>\n",
       "      <td>QC</td>\n",
       "      <td>2020-03-19</td>\n",
       "      <td>8</td>\n",
       "      <td>1</td>\n",
       "      <td>0</td>\n",
       "      <td>0</td>\n",
       "      <td>3035</td>\n",
       "    </tr>\n",
       "    <tr>\n",
       "      <th>57</th>\n",
       "      <td>QC</td>\n",
       "      <td>2020-03-20</td>\n",
       "      <td>48</td>\n",
       "      <td>1</td>\n",
       "      <td>0</td>\n",
       "      <td>0</td>\n",
       "      <td>3563</td>\n",
       "    </tr>\n",
       "  </tbody>\n",
       "</table>\n",
       "</div>"
      ],
      "text/plain": [
       "   region       date  daily_cases  daily_death  daily_hospitalization  \\\n",
       "53     QC 2020-03-16            2            0                      0   \n",
       "54     QC 2020-03-17            5            1                      0   \n",
       "55     QC 2020-03-18            4            1                      0   \n",
       "56     QC 2020-03-19            8            1                      0   \n",
       "57     QC 2020-03-20           48            1                      0   \n",
       "\n",
       "    daily_ICU  daily_test_completed  \n",
       "53          0                  1082  \n",
       "54          0                  1402  \n",
       "55          0                  1472  \n",
       "56          0                  3035  \n",
       "57          0                  3563  "
      ]
     },
     "execution_count": 8,
     "metadata": {},
     "output_type": "execute_result"
    }
   ],
   "source": [
    "march = quebec[53:114]\n",
    "march.head()"
   ]
  },
  {
   "cell_type": "code",
   "execution_count": 9,
   "id": "a67db00e",
   "metadata": {},
   "outputs": [],
   "source": [
    "x = pd.to_datetime(march['date'])\n",
    "y = march['daily_cases']"
   ]
  },
  {
   "cell_type": "code",
   "execution_count": 10,
   "id": "ec29b84c",
   "metadata": {},
   "outputs": [
    {
     "data": {
      "image/png": "[encoded data removed]",
      "text/plain": [
       "<Figure size 1080x720 with 1 Axes>"
      ]
     },
     "metadata": {
      "needs_background": "light"
     },
     "output_type": "display_data"
    }
   ],
   "source": [
    "march.plot(kind='scatter', x='date', y='daily_cases', figsize=(15, 10), s=60)\n",
    "plt.title(\"Daily Cases vs Dates\")\n",
    "plt.xlabel(\"Dates\", size = 13)\n",
    "plt.ylabel(\"Daily Cases\", size = 13)\n",
    "plt.xticks(x, rotation = 'vertical', size = 5)\n",
    "plt.show()"
   ]
  },
  {
   "cell_type": "code",
   "execution_count": 11,
   "id": "a9ff5ccd",
   "metadata": {},
   "outputs": [],
   "source": [
    "rdd_march = march.assign(Threshold = march['date']> '2020-04-15')"
   ]
  },
  {
   "cell_type": "code",
   "execution_count": 12,
   "id": "cca0fe11",
   "metadata": {
    "scrolled": true
   },
   "outputs": [],
   "source": [
    "rdd_march.insert(0, \"day\", range(1, 1 + len(rdd_march)))"
   ]
  },
  {
   "cell_type": "markdown",
   "id": "afc90f71",
   "metadata": {},
   "source": [
    "## ADDING POLYNOMIAL FEATURE ##"
   ]
  },
  {
   "cell_type": "code",
   "execution_count": 13,
   "id": "a7c1d713",
   "metadata": {},
   "outputs": [
    {
     "data": {
      "text/html": [
       "<div>\n",
       "<style scoped>\n",
       "    .dataframe tbody tr th:only-of-type {\n",
       "        vertical-align: middle;\n",
       "    }\n",
       "\n",
       "    .dataframe tbody tr th {\n",
       "        vertical-align: top;\n",
       "    }\n",
       "\n",
       "    .dataframe thead th {\n",
       "        text-align: right;\n",
       "    }\n",
       "</style>\n",
       "<table border=\"1\" class=\"dataframe\">\n",
       "  <thead>\n",
       "    <tr style=\"text-align: right;\">\n",
       "      <th></th>\n",
       "      <th>region</th>\n",
       "      <th>date</th>\n",
       "      <th>daily_cases</th>\n",
       "      <th>daily_death</th>\n",
       "      <th>daily_hospitalization</th>\n",
       "      <th>daily_ICU</th>\n",
       "      <th>daily_test_completed</th>\n",
       "    </tr>\n",
       "  </thead>\n",
       "  <tbody>\n",
       "    <tr>\n",
       "      <th>53</th>\n",
       "      <td>QC</td>\n",
       "      <td>2020-03-16</td>\n",
       "      <td>2</td>\n",
       "      <td>0</td>\n",
       "      <td>0</td>\n",
       "      <td>0</td>\n",
       "      <td>1082</td>\n",
       "    </tr>\n",
       "    <tr>\n",
       "      <th>54</th>\n",
       "      <td>QC</td>\n",
       "      <td>2020-03-17</td>\n",
       "      <td>5</td>\n",
       "      <td>1</td>\n",
       "      <td>0</td>\n",
       "      <td>0</td>\n",
       "      <td>1402</td>\n",
       "    </tr>\n",
       "    <tr>\n",
       "      <th>55</th>\n",
       "      <td>QC</td>\n",
       "      <td>2020-03-18</td>\n",
       "      <td>4</td>\n",
       "      <td>1</td>\n",
       "      <td>0</td>\n",
       "      <td>0</td>\n",
       "      <td>1472</td>\n",
       "    </tr>\n",
       "    <tr>\n",
       "      <th>56</th>\n",
       "      <td>QC</td>\n",
       "      <td>2020-03-19</td>\n",
       "      <td>8</td>\n",
       "      <td>1</td>\n",
       "      <td>0</td>\n",
       "      <td>0</td>\n",
       "      <td>3035</td>\n",
       "    </tr>\n",
       "    <tr>\n",
       "      <th>57</th>\n",
       "      <td>QC</td>\n",
       "      <td>2020-03-20</td>\n",
       "      <td>48</td>\n",
       "      <td>1</td>\n",
       "      <td>0</td>\n",
       "      <td>0</td>\n",
       "      <td>3563</td>\n",
       "    </tr>\n",
       "    <tr>\n",
       "      <th>...</th>\n",
       "      <td>...</td>\n",
       "      <td>...</td>\n",
       "      <td>...</td>\n",
       "      <td>...</td>\n",
       "      <td>...</td>\n",
       "      <td>...</td>\n",
       "      <td>...</td>\n",
       "    </tr>\n",
       "    <tr>\n",
       "      <th>109</th>\n",
       "      <td>QC</td>\n",
       "      <td>2020-05-11</td>\n",
       "      <td>669</td>\n",
       "      <td>93</td>\n",
       "      <td>7</td>\n",
       "      <td>-6</td>\n",
       "      <td>6334</td>\n",
       "    </tr>\n",
       "    <tr>\n",
       "      <th>110</th>\n",
       "      <td>QC</td>\n",
       "      <td>2020-05-12</td>\n",
       "      <td>560</td>\n",
       "      <td>97</td>\n",
       "      <td>2</td>\n",
       "      <td>-8</td>\n",
       "      <td>8464</td>\n",
       "    </tr>\n",
       "    <tr>\n",
       "      <th>111</th>\n",
       "      <td>QC</td>\n",
       "      <td>2020-05-13</td>\n",
       "      <td>629</td>\n",
       "      <td>82</td>\n",
       "      <td>32</td>\n",
       "      <td>10</td>\n",
       "      <td>9137</td>\n",
       "    </tr>\n",
       "    <tr>\n",
       "      <th>112</th>\n",
       "      <td>QC</td>\n",
       "      <td>2020-05-14</td>\n",
       "      <td>679</td>\n",
       "      <td>66</td>\n",
       "      <td>-37</td>\n",
       "      <td>-4</td>\n",
       "      <td>10009</td>\n",
       "    </tr>\n",
       "    <tr>\n",
       "      <th>113</th>\n",
       "      <td>QC</td>\n",
       "      <td>2020-05-15</td>\n",
       "      <td>714</td>\n",
       "      <td>86</td>\n",
       "      <td>-11</td>\n",
       "      <td>1</td>\n",
       "      <td>10320</td>\n",
       "    </tr>\n",
       "  </tbody>\n",
       "</table>\n",
       "<p>61 rows × 7 columns</p>\n",
       "</div>"
      ],
      "text/plain": [
       "    region       date  daily_cases  daily_death  daily_hospitalization  \\\n",
       "53      QC 2020-03-16            2            0                      0   \n",
       "54      QC 2020-03-17            5            1                      0   \n",
       "55      QC 2020-03-18            4            1                      0   \n",
       "56      QC 2020-03-19            8            1                      0   \n",
       "57      QC 2020-03-20           48            1                      0   \n",
       "..     ...        ...          ...          ...                    ...   \n",
       "109     QC 2020-05-11          669           93                      7   \n",
       "110     QC 2020-05-12          560           97                      2   \n",
       "111     QC 2020-05-13          629           82                     32   \n",
       "112     QC 2020-05-14          679           66                    -37   \n",
       "113     QC 2020-05-15          714           86                    -11   \n",
       "\n",
       "     daily_ICU  daily_test_completed  \n",
       "53           0                  1082  \n",
       "54           0                  1402  \n",
       "55           0                  1472  \n",
       "56           0                  3035  \n",
       "57           0                  3563  \n",
       "..         ...                   ...  \n",
       "109         -6                  6334  \n",
       "110         -8                  8464  \n",
       "111         10                  9137  \n",
       "112         -4                 10009  \n",
       "113          1                 10320  \n",
       "\n",
       "[61 rows x 7 columns]"
      ]
     },
     "execution_count": 13,
     "metadata": {},
     "output_type": "execute_result"
    }
   ],
   "source": [
    "rdd_march['day_sq'] = np.square(rdd_march['day'])\n",
    "march"
   ]
  },
  {
   "cell_type": "code",
   "execution_count": 14,
   "id": "caa5dd27",
   "metadata": {
    "scrolled": true
   },
   "outputs": [
    {
     "data": {
      "text/html": [
       "<table class=\"simpletable\">\n",
       "<caption>OLS Regression Results</caption>\n",
       "<tr>\n",
       "  <th>Dep. Variable:</th>       <td>daily_cases</td>   <th>  R-squared:         </th> <td>   0.872</td>\n",
       "</tr>\n",
       "<tr>\n",
       "  <th>Model:</th>                   <td>OLS</td>       <th>  Adj. R-squared:    </th> <td>   0.862</td>\n",
       "</tr>\n",
       "<tr>\n",
       "  <th>Method:</th>             <td>Least Squares</td>  <th>  F-statistic:       </th> <td>   95.05</td>\n",
       "</tr>\n",
       "<tr>\n",
       "  <th>Date:</th>             <td>Mon, 24 Oct 2022</td> <th>  Prob (F-statistic):</th> <td>2.77e-24</td>\n",
       "</tr>\n",
       "<tr>\n",
       "  <th>Time:</th>                 <td>17:11:21</td>     <th>  Log-Likelihood:    </th> <td> -363.44</td>\n",
       "</tr>\n",
       "<tr>\n",
       "  <th>No. Observations:</th>      <td>    61</td>      <th>  AIC:               </th> <td>   736.9</td>\n",
       "</tr>\n",
       "<tr>\n",
       "  <th>Df Residuals:</th>          <td>    56</td>      <th>  BIC:               </th> <td>   747.4</td>\n",
       "</tr>\n",
       "<tr>\n",
       "  <th>Df Model:</th>              <td>     4</td>      <th>                     </th>     <td> </td>   \n",
       "</tr>\n",
       "<tr>\n",
       "  <th>Covariance Type:</th>      <td>nonrobust</td>    <th>                     </th>     <td> </td>   \n",
       "</tr>\n",
       "</table>\n",
       "<table class=\"simpletable\">\n",
       "<tr>\n",
       "            <td></td>               <th>coef</th>     <th>std err</th>      <th>t</th>      <th>P>|t|</th>  <th>[0.025</th>    <th>0.975]</th>  \n",
       "</tr>\n",
       "<tr>\n",
       "  <th>Intercept</th>             <td>  -96.2956</td> <td>   47.997</td> <td>   -2.006</td> <td> 0.050</td> <td> -192.445</td> <td>   -0.146</td>\n",
       "</tr>\n",
       "<tr>\n",
       "  <th>Threshold[T.True]</th>     <td>  360.5257</td> <td>  360.548</td> <td>    1.000</td> <td> 0.322</td> <td> -361.738</td> <td> 1082.790</td>\n",
       "</tr>\n",
       "<tr>\n",
       "  <th>day</th>                   <td>   40.5793</td> <td>    6.104</td> <td>    6.648</td> <td> 0.000</td> <td>   28.351</td> <td>   52.807</td>\n",
       "</tr>\n",
       "<tr>\n",
       "  <th>day:Threshold[T.True]</th> <td>  -15.8582</td> <td>   11.380</td> <td>   -1.393</td> <td> 0.169</td> <td>  -38.655</td> <td>    6.939</td>\n",
       "</tr>\n",
       "<tr>\n",
       "  <th>day_sq</th>                <td>   -0.3044</td> <td>    0.181</td> <td>   -1.685</td> <td> 0.098</td> <td>   -0.666</td> <td>    0.058</td>\n",
       "</tr>\n",
       "</table>\n",
       "<table class=\"simpletable\">\n",
       "<tr>\n",
       "  <th>Omnibus:</th>       <td> 0.083</td> <th>  Durbin-Watson:     </th> <td>   1.303</td>\n",
       "</tr>\n",
       "<tr>\n",
       "  <th>Prob(Omnibus):</th> <td> 0.959</td> <th>  Jarque-Bera (JB):  </th> <td>   0.122</td>\n",
       "</tr>\n",
       "<tr>\n",
       "  <th>Skew:</th>          <td> 0.077</td> <th>  Prob(JB):          </th> <td>   0.941</td>\n",
       "</tr>\n",
       "<tr>\n",
       "  <th>Kurtosis:</th>      <td> 2.846</td> <th>  Cond. No.          </th> <td>4.91e+04</td>\n",
       "</tr>\n",
       "</table><br/><br/>Notes:<br/>[1] Standard Errors assume that the covariance matrix of the errors is correctly specified.<br/>[2] The condition number is large, 4.91e+04. This might indicate that there are<br/>strong multicollinearity or other numerical problems."
      ],
      "text/plain": [
       "<class 'statsmodels.iolib.summary.Summary'>\n",
       "\"\"\"\n",
       "                            OLS Regression Results                            \n",
       "==============================================================================\n",
       "Dep. Variable:            daily_cases   R-squared:                       0.872\n",
       "Model:                            OLS   Adj. R-squared:                  0.862\n",
       "Method:                 Least Squares   F-statistic:                     95.05\n",
       "Date:                Mon, 24 Oct 2022   Prob (F-statistic):           2.77e-24\n",
       "Time:                        17:11:21   Log-Likelihood:                -363.44\n",
       "No. Observations:                  61   AIC:                             736.9\n",
       "Df Residuals:                      56   BIC:                             747.4\n",
       "Df Model:                           4                                         \n",
       "Covariance Type:            nonrobust                                         \n",
       "=========================================================================================\n",
       "                            coef    std err          t      P>|t|      [0.025      0.975]\n",
       "-----------------------------------------------------------------------------------------\n",
       "Intercept               -96.2956     47.997     -2.006      0.050    -192.445      -0.146\n",
       "Threshold[T.True]       360.5257    360.548      1.000      0.322    -361.738    1082.790\n",
       "day                      40.5793      6.104      6.648      0.000      28.351      52.807\n",
       "day:Threshold[T.True]   -15.8582     11.380     -1.393      0.169     -38.655       6.939\n",
       "day_sq                   -0.3044      0.181     -1.685      0.098      -0.666       0.058\n",
       "==============================================================================\n",
       "Omnibus:                        0.083   Durbin-Watson:                   1.303\n",
       "Prob(Omnibus):                  0.959   Jarque-Bera (JB):                0.122\n",
       "Skew:                           0.077   Prob(JB):                        0.941\n",
       "Kurtosis:                       2.846   Cond. No.                     4.91e+04\n",
       "==============================================================================\n",
       "\n",
       "Notes:\n",
       "[1] Standard Errors assume that the covariance matrix of the errors is correctly specified.\n",
       "[2] The condition number is large, 4.91e+04. This might indicate that there are\n",
       "strong multicollinearity or other numerical problems.\n",
       "\"\"\""
      ]
     },
     "execution_count": 14,
     "metadata": {},
     "output_type": "execute_result"
    }
   ],
   "source": [
    "window = rdd_march[(rdd_march['day']>=0) & (rdd_march['day']<=61)]\n",
    "\n",
    "result = smf.ols(formula = \"daily_cases ~ day + day_sq + day *Threshold\", \n",
    "                 data = window).fit()\n",
    "result.summary()"
   ]
  },
  {
   "cell_type": "markdown",
   "id": "e18124a2",
   "metadata": {},
   "source": [
    "## REGRESSION DISCONTINUITY ##\n",
    "\n",
    "The number 31 represents the lagged date which is 2020-04-15."
   ]
  },
  {
   "cell_type": "code",
   "execution_count": 15,
   "id": "fdb90ac9",
   "metadata": {
    "scrolled": false
   },
   "outputs": [
    {
     "data": {
      "text/plain": [
       "Text(0.5, 1.0, 'Regression Discontinuity')"
      ]
     },
     "execution_count": 15,
     "metadata": {},
     "output_type": "execute_result"
    },
    {
     "data": {
      "image/png": "[encoded data removed]",
      "text/plain": [
       "<Figure size 648x360 with 1 Axes>"
      ]
     },
     "metadata": {
      "needs_background": "light"
     },
     "output_type": "display_data"
    }
   ],
   "source": [
    "plt.figure(figsize=(9, 5))\n",
    "plt.scatter(window.day,window.daily_cases, color=\"grey\", alpha=1)\n",
    "l=window[window.day<32].day.count()\n",
    "plt.plot(window.day[0:l], result.predict()[0:l], '-', color=\"orange\")\n",
    "plt.plot(window.day[l:], result.predict()[l:], '-', color=\"blue\")\n",
    "plt.xlabel(\"Days\", size = 13)\n",
    "plt.ylabel(\"Daily Cases\", size = 13)\n",
    "plt.axvline(x=31,color=\"green\", linestyle=\"-\")\n",
    "plt.title(\"Regression Discontinuity\", fontsize=\"18\")"
   ]
  },
  {
   "cell_type": "markdown",
   "id": "4769e785",
   "metadata": {},
   "source": [
    "## CONCLUSION ##\n"
   ]
  },
  {
   "cell_type": "markdown",
   "id": "473edc00",
   "metadata": {},
   "source": [
    "Given the lag date of April 15, 2020, we can conclude that the lockdown has decreased the cases of Covid reported daily in Quebec. By looking at the summary we can see that there is statiscal significance with the day and the intercept having Pvalues lower than 0.05. "
   ]
  },
  {
   "cell_type": "code",
   "execution_count": null,
   "id": "e1f76daf",
   "metadata": {},
   "outputs": [],
   "source": []
  }
 ],
 "metadata": {
  "kernelspec": {
   "display_name": "Python 3 (ipykernel)",
   "language": "python",
   "name": "python3"
  },
  "language_info": {
   "codemirror_mode": {
    "name": "ipython",
    "version": 3
   },
   "file_extension": ".py",
   "mimetype": "text/x-python",
   "name": "python",
   "nbconvert_exporter": "python",
   "pygments_lexer": "ipython3",
   "version": "3.9.7"
  }
 },
 "nbformat": 4,
 "nbformat_minor": 5
}
